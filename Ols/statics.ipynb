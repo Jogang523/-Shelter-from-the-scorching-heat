{
  "cells": [
    {
      "cell_type": "code",
      "execution_count": null,
      "id": "36bfeed6-150d-43b6-aacf-f06e5d511b62",
      "metadata": {
        "id": "36bfeed6-150d-43b6-aacf-f06e5d511b62"
      },
      "outputs": [],
      "source": [
        "import pandas as pd\n",
        "import numpy as np\n",
        "import matplotlib.pyplot as plt\n",
        "import seaborn as sns"
      ]
    },
    {
      "cell_type": "code",
      "execution_count": null,
      "id": "83b5e758-862d-4f9a-a13c-053e4e7805ae",
      "metadata": {
        "id": "83b5e758-862d-4f9a-a13c-053e4e7805ae"
      },
      "outputs": [],
      "source": [
        "import matplotlib as mpl\n",
        "import matplotlib.font_manager as fm\n",
        "\n",
        "mpl.rcParams['axes.unicode_minus']= False\n",
        "path = 'C:/Windows/Fonts/malgun.ttf'\n",
        "font_name = fm.FontProperties(fname = path, size = 50).get_name()\n",
        "plt.rc('font', family=font_name)"
      ]
    },
    {
      "cell_type": "code",
      "execution_count": null,
      "id": "96e6f3a3-bf54-4cbe-b2bb-c7ef3d1150e6",
      "metadata": {
        "id": "96e6f3a3-bf54-4cbe-b2bb-c7ef3d1150e6",
        "outputId": "aa180bb1-bdec-46dd-b43d-238792631d27"
      },
      "outputs": [
        {
          "data": {
            "text/html": [
              "<div>\n",
              "<style scoped>\n",
              "    .dataframe tbody tr th:only-of-type {\n",
              "        vertical-align: middle;\n",
              "    }\n",
              "\n",
              "    .dataframe tbody tr th {\n",
              "        vertical-align: top;\n",
              "    }\n",
              "\n",
              "    .dataframe thead th {\n",
              "        text-align: right;\n",
              "    }\n",
              "</style>\n",
              "<table border=\"1\" class=\"dataframe\">\n",
              "  <thead>\n",
              "    <tr style=\"text-align: right;\">\n",
              "      <th></th>\n",
              "      <th>시군구</th>\n",
              "      <th>수급권자수</th>\n",
              "      <th>구별인구수</th>\n",
              "      <th>고령자수</th>\n",
              "      <th>온열질환자수</th>\n",
              "      <th>수용인원</th>\n",
              "      <th>고령자비율</th>\n",
              "      <th>수급자비율</th>\n",
              "      <th>수용률</th>\n",
              "      <th>온열환자비율</th>\n",
              "      <th>최고온도</th>\n",
              "    </tr>\n",
              "  </thead>\n",
              "  <tbody>\n",
              "    <tr>\n",
              "      <th>0</th>\n",
              "      <td>강남구</td>\n",
              "      <td>5249</td>\n",
              "      <td>607337</td>\n",
              "      <td>95937</td>\n",
              "      <td>137</td>\n",
              "      <td>1747</td>\n",
              "      <td>0.157963</td>\n",
              "      <td>0.008643</td>\n",
              "      <td>0.002876</td>\n",
              "      <td>0.000226</td>\n",
              "      <td>34.0</td>\n",
              "    </tr>\n",
              "    <tr>\n",
              "      <th>1</th>\n",
              "      <td>강북구</td>\n",
              "      <td>8112</td>\n",
              "      <td>291372</td>\n",
              "      <td>69366</td>\n",
              "      <td>26</td>\n",
              "      <td>2216</td>\n",
              "      <td>0.238067</td>\n",
              "      <td>0.027841</td>\n",
              "      <td>0.007605</td>\n",
              "      <td>0.000089</td>\n",
              "      <td>33.0</td>\n",
              "    </tr>\n",
              "    <tr>\n",
              "      <th>2</th>\n",
              "      <td>강서구</td>\n",
              "      <td>12198</td>\n",
              "      <td>567159</td>\n",
              "      <td>103825</td>\n",
              "      <td>101</td>\n",
              "      <td>7109</td>\n",
              "      <td>0.183062</td>\n",
              "      <td>0.021507</td>\n",
              "      <td>0.012534</td>\n",
              "      <td>0.000178</td>\n",
              "      <td>32.0</td>\n",
              "    </tr>\n",
              "    <tr>\n",
              "      <th>3</th>\n",
              "      <td>관악구</td>\n",
              "      <td>9502</td>\n",
              "      <td>553533</td>\n",
              "      <td>96722</td>\n",
              "      <td>84</td>\n",
              "      <td>2304</td>\n",
              "      <td>0.174736</td>\n",
              "      <td>0.017166</td>\n",
              "      <td>0.004162</td>\n",
              "      <td>0.000152</td>\n",
              "      <td>32.0</td>\n",
              "    </tr>\n",
              "    <tr>\n",
              "      <th>4</th>\n",
              "      <td>광진구</td>\n",
              "      <td>3568</td>\n",
              "      <td>327550</td>\n",
              "      <td>53447</td>\n",
              "      <td>43</td>\n",
              "      <td>3333</td>\n",
              "      <td>0.163172</td>\n",
              "      <td>0.010893</td>\n",
              "      <td>0.010176</td>\n",
              "      <td>0.000131</td>\n",
              "      <td>32.0</td>\n",
              "    </tr>\n",
              "  </tbody>\n",
              "</table>\n",
              "</div>"
            ],
            "text/plain": [
              "   시군구  수급권자수   구별인구수    고령자수  온열질환자수  수용인원     고령자비율     수급자비율       수용률  \\\n",
              "0  강남구   5249  607337   95937     137  1747  0.157963  0.008643  0.002876   \n",
              "1  강북구   8112  291372   69366      26  2216  0.238067  0.027841  0.007605   \n",
              "2  강서구  12198  567159  103825     101  7109  0.183062  0.021507  0.012534   \n",
              "3  관악구   9502  553533   96722      84  2304  0.174736  0.017166  0.004162   \n",
              "4  광진구   3568  327550   53447      43  3333  0.163172  0.010893  0.010176   \n",
              "\n",
              "     온열환자비율  최고온도  \n",
              "0  0.000226  34.0  \n",
              "1  0.000089  33.0  \n",
              "2  0.000178  32.0  \n",
              "3  0.000152  32.0  \n",
              "4  0.000131  32.0  "
            ]
          },
          "execution_count": 48,
          "metadata": {},
          "output_type": "execute_result"
        }
      ],
      "source": [
        "df = pd.read_csv('C:\\\\Users\\\\M\\\\sql-work\\\\project\\\\ratio.csv')\n",
        "df.head()"
      ]
    },
    {
      "cell_type": "code",
      "execution_count": null,
      "id": "088775b6-d64f-47e4-99dc-6d5e24c46700",
      "metadata": {
        "id": "088775b6-d64f-47e4-99dc-6d5e24c46700"
      },
      "outputs": [],
      "source": [
        "mf = pd.read_csv('C:\\\\Users\\\\M\\\\sql-work\\\\project\\\\평균기온.csv')\n",
        "mf.drop('Unnamed: 0', axis = 1, inplace = True)"
      ]
    },
    {
      "cell_type": "code",
      "execution_count": null,
      "id": "b7e313a6-8698-4d2c-b41c-37830792bf98",
      "metadata": {
        "scrolled": true,
        "id": "b7e313a6-8698-4d2c-b41c-37830792bf98"
      },
      "outputs": [],
      "source": [
        "df = pd.merge(df, mf, on = '시군구', how = 'inner')"
      ]
    },
    {
      "cell_type": "code",
      "execution_count": null,
      "id": "74e9c565-d39e-411e-949d-4024851d4507",
      "metadata": {
        "id": "74e9c565-d39e-411e-949d-4024851d4507"
      },
      "outputs": [],
      "source": [
        "df.rename(columns = {'기온':'평균기온'}, inplace = True)"
      ]
    },
    {
      "cell_type": "code",
      "execution_count": null,
      "id": "f3af7257-2437-4919-9f9a-dcf09ba97f3b",
      "metadata": {
        "id": "f3af7257-2437-4919-9f9a-dcf09ba97f3b",
        "outputId": "978ba134-a992-401c-e343-21885a625d7e"
      },
      "outputs": [
        {
          "data": {
            "text/html": [
              "<div>\n",
              "<style scoped>\n",
              "    .dataframe tbody tr th:only-of-type {\n",
              "        vertical-align: middle;\n",
              "    }\n",
              "\n",
              "    .dataframe tbody tr th {\n",
              "        vertical-align: top;\n",
              "    }\n",
              "\n",
              "    .dataframe thead th {\n",
              "        text-align: right;\n",
              "    }\n",
              "</style>\n",
              "<table border=\"1\" class=\"dataframe\">\n",
              "  <thead>\n",
              "    <tr style=\"text-align: right;\">\n",
              "      <th></th>\n",
              "      <th>시군구</th>\n",
              "      <th>수급권자수</th>\n",
              "      <th>구별인구수</th>\n",
              "      <th>고령자수</th>\n",
              "      <th>온열질환자수</th>\n",
              "      <th>수용인원</th>\n",
              "      <th>고령자비율</th>\n",
              "      <th>수급자비율</th>\n",
              "      <th>수용률</th>\n",
              "      <th>온열환자비율</th>\n",
              "      <th>최고온도</th>\n",
              "      <th>평균기온</th>\n",
              "    </tr>\n",
              "  </thead>\n",
              "  <tbody>\n",
              "    <tr>\n",
              "      <th>0</th>\n",
              "      <td>강남구</td>\n",
              "      <td>5249</td>\n",
              "      <td>607337</td>\n",
              "      <td>95937</td>\n",
              "      <td>137</td>\n",
              "      <td>1747</td>\n",
              "      <td>0.157963</td>\n",
              "      <td>0.008643</td>\n",
              "      <td>0.002876</td>\n",
              "      <td>0.000226</td>\n",
              "      <td>34.0</td>\n",
              "      <td>13.8889</td>\n",
              "    </tr>\n",
              "    <tr>\n",
              "      <th>1</th>\n",
              "      <td>강북구</td>\n",
              "      <td>8112</td>\n",
              "      <td>291372</td>\n",
              "      <td>69366</td>\n",
              "      <td>26</td>\n",
              "      <td>2216</td>\n",
              "      <td>0.238067</td>\n",
              "      <td>0.027841</td>\n",
              "      <td>0.007605</td>\n",
              "      <td>0.000089</td>\n",
              "      <td>33.0</td>\n",
              "      <td>13.6300</td>\n",
              "    </tr>\n",
              "    <tr>\n",
              "      <th>2</th>\n",
              "      <td>강서구</td>\n",
              "      <td>12198</td>\n",
              "      <td>567159</td>\n",
              "      <td>103825</td>\n",
              "      <td>101</td>\n",
              "      <td>7109</td>\n",
              "      <td>0.183062</td>\n",
              "      <td>0.021507</td>\n",
              "      <td>0.012534</td>\n",
              "      <td>0.000178</td>\n",
              "      <td>32.0</td>\n",
              "      <td>13.3556</td>\n",
              "    </tr>\n",
              "    <tr>\n",
              "      <th>3</th>\n",
              "      <td>관악구</td>\n",
              "      <td>9502</td>\n",
              "      <td>553533</td>\n",
              "      <td>96722</td>\n",
              "      <td>84</td>\n",
              "      <td>2304</td>\n",
              "      <td>0.174736</td>\n",
              "      <td>0.017166</td>\n",
              "      <td>0.004162</td>\n",
              "      <td>0.000152</td>\n",
              "      <td>32.0</td>\n",
              "      <td>11.9500</td>\n",
              "    </tr>\n",
              "    <tr>\n",
              "      <th>4</th>\n",
              "      <td>광진구</td>\n",
              "      <td>3568</td>\n",
              "      <td>327550</td>\n",
              "      <td>53447</td>\n",
              "      <td>43</td>\n",
              "      <td>3333</td>\n",
              "      <td>0.163172</td>\n",
              "      <td>0.010893</td>\n",
              "      <td>0.010176</td>\n",
              "      <td>0.000131</td>\n",
              "      <td>32.0</td>\n",
              "      <td>13.7000</td>\n",
              "    </tr>\n",
              "  </tbody>\n",
              "</table>\n",
              "</div>"
            ],
            "text/plain": [
              "   시군구  수급권자수   구별인구수    고령자수  온열질환자수  수용인원     고령자비율     수급자비율       수용률  \\\n",
              "0  강남구   5249  607337   95937     137  1747  0.157963  0.008643  0.002876   \n",
              "1  강북구   8112  291372   69366      26  2216  0.238067  0.027841  0.007605   \n",
              "2  강서구  12198  567159  103825     101  7109  0.183062  0.021507  0.012534   \n",
              "3  관악구   9502  553533   96722      84  2304  0.174736  0.017166  0.004162   \n",
              "4  광진구   3568  327550   53447      43  3333  0.163172  0.010893  0.010176   \n",
              "\n",
              "     온열환자비율  최고온도     평균기온  \n",
              "0  0.000226  34.0  13.8889  \n",
              "1  0.000089  33.0  13.6300  \n",
              "2  0.000178  32.0  13.3556  \n",
              "3  0.000152  32.0  11.9500  \n",
              "4  0.000131  32.0  13.7000  "
            ]
          },
          "execution_count": 64,
          "metadata": {},
          "output_type": "execute_result"
        }
      ],
      "source": [
        "df.head()"
      ]
    },
    {
      "cell_type": "markdown",
      "source": [
        "### 상관관계 분석"
      ],
      "metadata": {
        "id": "ZfNDumzCSbv7"
      },
      "id": "ZfNDumzCSbv7"
    },
    {
      "cell_type": "code",
      "execution_count": null,
      "id": "104ef6c4-6d4c-4826-a563-e2373810f9a0",
      "metadata": {
        "id": "104ef6c4-6d4c-4826-a563-e2373810f9a0",
        "outputId": "60633688-39f5-4cc0-9d4b-4088ea86a970"
      },
      "outputs": [
        {
          "data": {
            "text/html": [
              "<div>\n",
              "<style scoped>\n",
              "    .dataframe tbody tr th:only-of-type {\n",
              "        vertical-align: middle;\n",
              "    }\n",
              "\n",
              "    .dataframe tbody tr th {\n",
              "        vertical-align: top;\n",
              "    }\n",
              "\n",
              "    .dataframe thead th {\n",
              "        text-align: right;\n",
              "    }\n",
              "</style>\n",
              "<table border=\"1\" class=\"dataframe\">\n",
              "  <thead>\n",
              "    <tr style=\"text-align: right;\">\n",
              "      <th></th>\n",
              "      <th>수용률</th>\n",
              "      <th>온열환자비율</th>\n",
              "    </tr>\n",
              "  </thead>\n",
              "  <tbody>\n",
              "    <tr>\n",
              "      <th>수용률</th>\n",
              "      <td>1.000000</td>\n",
              "      <td>-0.366529</td>\n",
              "    </tr>\n",
              "    <tr>\n",
              "      <th>온열환자비율</th>\n",
              "      <td>-0.366529</td>\n",
              "      <td>1.000000</td>\n",
              "    </tr>\n",
              "  </tbody>\n",
              "</table>\n",
              "</div>"
            ],
            "text/plain": [
              "             수용률    온열환자비율\n",
              "수용률     1.000000 -0.366529\n",
              "온열환자비율 -0.366529  1.000000"
            ]
          },
          "execution_count": 63,
          "metadata": {},
          "output_type": "execute_result"
        }
      ],
      "source": [
        "\n",
        "df[['수용률', '온열환자비율']].corr()"
      ]
    },
    {
      "cell_type": "code",
      "source": [],
      "metadata": {
        "id": "ZtEd3S2kb6rs"
      },
      "id": "ZtEd3S2kb6rs",
      "execution_count": null,
      "outputs": []
    },
    {
      "cell_type": "code",
      "source": [],
      "metadata": {
        "id": "IlO-o0Veb6pA"
      },
      "id": "IlO-o0Veb6pA",
      "execution_count": null,
      "outputs": []
    },
    {
      "cell_type": "code",
      "execution_count": null,
      "id": "7714d82b-fee9-4069-bd6c-9bf1e9bc4109",
      "metadata": {
        "id": "7714d82b-fee9-4069-bd6c-9bf1e9bc4109",
        "outputId": "dc1bd542-3352-4c68-a8b0-52d3848377e8"
      },
      "outputs": [
        {
          "data": {
            "text/html": [
              "<div>\n",
              "<style scoped>\n",
              "    .dataframe tbody tr th:only-of-type {\n",
              "        vertical-align: middle;\n",
              "    }\n",
              "\n",
              "    .dataframe tbody tr th {\n",
              "        vertical-align: top;\n",
              "    }\n",
              "\n",
              "    .dataframe thead th {\n",
              "        text-align: right;\n",
              "    }\n",
              "</style>\n",
              "<table border=\"1\" class=\"dataframe\">\n",
              "  <thead>\n",
              "    <tr style=\"text-align: right;\">\n",
              "      <th></th>\n",
              "      <th>고령자수</th>\n",
              "      <th>온열질환자수</th>\n",
              "    </tr>\n",
              "  </thead>\n",
              "  <tbody>\n",
              "    <tr>\n",
              "      <th>고령자수</th>\n",
              "      <td>1.000000</td>\n",
              "      <td>0.192127</td>\n",
              "    </tr>\n",
              "    <tr>\n",
              "      <th>온열질환자수</th>\n",
              "      <td>0.192127</td>\n",
              "      <td>1.000000</td>\n",
              "    </tr>\n",
              "  </tbody>\n",
              "</table>\n",
              "</div>"
            ],
            "text/plain": [
              "            고령자수    온열질환자수\n",
              "고령자수    1.000000  0.192127\n",
              "온열질환자수  0.192127  1.000000"
            ]
          },
          "execution_count": 58,
          "metadata": {},
          "output_type": "execute_result"
        }
      ],
      "source": [
        "df[['고령자수', '온열질환자수']].corr()"
      ]
    },
    {
      "cell_type": "code",
      "execution_count": null,
      "id": "02b2cd56-531c-4fe6-afe7-a3d7605f8a73",
      "metadata": {
        "scrolled": true,
        "id": "02b2cd56-531c-4fe6-afe7-a3d7605f8a73",
        "outputId": "f6cffad6-9a79-4c53-b76e-86e3526d7b42"
      },
      "outputs": [
        {
          "data": {
            "text/html": [
              "<table class=\"simpletable\">\n",
              "<caption>OLS Regression Results</caption>\n",
              "<tr>\n",
              "  <th>Dep. Variable:</th>         <td>온열환자비율</td>      <th>  R-squared:         </th> <td>   0.339</td>\n",
              "</tr>\n",
              "<tr>\n",
              "  <th>Model:</th>                   <td>OLS</td>       <th>  Adj. R-squared:    </th> <td>   0.145</td>\n",
              "</tr>\n",
              "<tr>\n",
              "  <th>Method:</th>             <td>Least Squares</td>  <th>  F-statistic:       </th> <td>   1.745</td>\n",
              "</tr>\n",
              "<tr>\n",
              "  <th>Date:</th>             <td>Fri, 21 Jun 2024</td> <th>  Prob (F-statistic):</th>  <td> 0.178</td> \n",
              "</tr>\n",
              "<tr>\n",
              "  <th>Time:</th>                 <td>18:39:42</td>     <th>  Log-Likelihood:    </th> <td>  164.29</td>\n",
              "</tr>\n",
              "<tr>\n",
              "  <th>No. Observations:</th>      <td>    23</td>      <th>  AIC:               </th> <td>  -316.6</td>\n",
              "</tr>\n",
              "<tr>\n",
              "  <th>Df Residuals:</th>          <td>    17</td>      <th>  BIC:               </th> <td>  -309.8</td>\n",
              "</tr>\n",
              "<tr>\n",
              "  <th>Df Model:</th>              <td>     5</td>      <th>                     </th>     <td> </td>   \n",
              "</tr>\n",
              "<tr>\n",
              "  <th>Covariance Type:</th>      <td>nonrobust</td>    <th>                     </th>     <td> </td>   \n",
              "</tr>\n",
              "</table>\n",
              "<table class=\"simpletable\">\n",
              "<tr>\n",
              "      <td></td>         <th>coef</th>     <th>std err</th>      <th>t</th>      <th>P>|t|</th>  <th>[0.025</th>    <th>0.975]</th>  \n",
              "</tr>\n",
              "<tr>\n",
              "  <th>Intercept</th> <td>   -0.0003</td> <td>    0.002</td> <td>   -0.111</td> <td> 0.913</td> <td>   -0.005</td> <td>    0.005</td>\n",
              "</tr>\n",
              "<tr>\n",
              "  <th>고령자비율</th>     <td>    0.0023</td> <td>    0.004</td> <td>    0.580</td> <td> 0.569</td> <td>   -0.006</td> <td>    0.011</td>\n",
              "</tr>\n",
              "<tr>\n",
              "  <th>수급자비율</th>     <td>   -0.0240</td> <td>    0.016</td> <td>   -1.462</td> <td> 0.162</td> <td>   -0.059</td> <td>    0.011</td>\n",
              "</tr>\n",
              "<tr>\n",
              "  <th>수용률</th>       <td>   -0.0123</td> <td>    0.008</td> <td>   -1.506</td> <td> 0.150</td> <td>   -0.029</td> <td>    0.005</td>\n",
              "</tr>\n",
              "<tr>\n",
              "  <th>평균기온</th>      <td>-6.491e-05</td> <td> 8.39e-05</td> <td>   -0.773</td> <td> 0.450</td> <td>   -0.000</td> <td>    0.000</td>\n",
              "</tr>\n",
              "<tr>\n",
              "  <th>최고온도</th>      <td> 4.392e-05</td> <td> 8.87e-05</td> <td>    0.495</td> <td> 0.627</td> <td>   -0.000</td> <td>    0.000</td>\n",
              "</tr>\n",
              "</table>\n",
              "<table class=\"simpletable\">\n",
              "<tr>\n",
              "  <th>Omnibus:</th>       <td>14.485</td> <th>  Durbin-Watson:     </th> <td>   1.480</td>\n",
              "</tr>\n",
              "<tr>\n",
              "  <th>Prob(Omnibus):</th> <td> 0.001</td> <th>  Jarque-Bera (JB):  </th> <td>  14.769</td>\n",
              "</tr>\n",
              "<tr>\n",
              "  <th>Skew:</th>          <td> 1.404</td> <th>  Prob(JB):          </th> <td>0.000621</td>\n",
              "</tr>\n",
              "<tr>\n",
              "  <th>Kurtosis:</th>      <td> 5.744</td> <th>  Cond. No.          </th> <td>1.30e+04</td>\n",
              "</tr>\n",
              "</table><br/><br/>Notes:<br/>[1] Standard Errors assume that the covariance matrix of the errors is correctly specified.<br/>[2] The condition number is large, 1.3e+04. This might indicate that there are<br/>strong multicollinearity or other numerical problems."
            ],
            "text/latex": [
              "\\begin{center}\n",
              "\\begin{tabular}{lclc}\n",
              "\\toprule\n",
              "\\textbf{Dep. Variable:}    &      온열환자비율      & \\textbf{  R-squared:         } &     0.339   \\\\\n",
              "\\textbf{Model:}            &       OLS        & \\textbf{  Adj. R-squared:    } &     0.145   \\\\\n",
              "\\textbf{Method:}           &  Least Squares   & \\textbf{  F-statistic:       } &     1.745   \\\\\n",
              "\\textbf{Date:}             & Fri, 21 Jun 2024 & \\textbf{  Prob (F-statistic):} &    0.178    \\\\\n",
              "\\textbf{Time:}             &     18:39:42     & \\textbf{  Log-Likelihood:    } &    164.29   \\\\\n",
              "\\textbf{No. Observations:} &          23      & \\textbf{  AIC:               } &    -316.6   \\\\\n",
              "\\textbf{Df Residuals:}     &          17      & \\textbf{  BIC:               } &    -309.8   \\\\\n",
              "\\textbf{Df Model:}         &           5      & \\textbf{                     } &             \\\\\n",
              "\\textbf{Covariance Type:}  &    nonrobust     & \\textbf{                     } &             \\\\\n",
              "\\bottomrule\n",
              "\\end{tabular}\n",
              "\\begin{tabular}{lcccccc}\n",
              "                   & \\textbf{coef} & \\textbf{std err} & \\textbf{t} & \\textbf{P$> |$t$|$} & \\textbf{[0.025} & \\textbf{0.975]}  \\\\\n",
              "\\midrule\n",
              "\\textbf{Intercept} &      -0.0003  &        0.002     &    -0.111  &         0.913        &       -0.005    &        0.005     \\\\\n",
              "\\textbf{고령자비율}     &       0.0023  &        0.004     &     0.580  &         0.569        &       -0.006    &        0.011     \\\\\n",
              "\\textbf{수급자비율}     &      -0.0240  &        0.016     &    -1.462  &         0.162        &       -0.059    &        0.011     \\\\\n",
              "\\textbf{수용률}       &      -0.0123  &        0.008     &    -1.506  &         0.150        &       -0.029    &        0.005     \\\\\n",
              "\\textbf{평균기온}      &   -6.491e-05  &     8.39e-05     &    -0.773  &         0.450        &       -0.000    &        0.000     \\\\\n",
              "\\textbf{최고온도}      &    4.392e-05  &     8.87e-05     &     0.495  &         0.627        &       -0.000    &        0.000     \\\\\n",
              "\\bottomrule\n",
              "\\end{tabular}\n",
              "\\begin{tabular}{lclc}\n",
              "\\textbf{Omnibus:}       & 14.485 & \\textbf{  Durbin-Watson:     } &    1.480  \\\\\n",
              "\\textbf{Prob(Omnibus):} &  0.001 & \\textbf{  Jarque-Bera (JB):  } &   14.769  \\\\\n",
              "\\textbf{Skew:}          &  1.404 & \\textbf{  Prob(JB):          } & 0.000621  \\\\\n",
              "\\textbf{Kurtosis:}      &  5.744 & \\textbf{  Cond. No.          } & 1.30e+04  \\\\\n",
              "\\bottomrule\n",
              "\\end{tabular}\n",
              "%\\caption{OLS Regression Results}\n",
              "\\end{center}\n",
              "\n",
              "Notes: \\newline\n",
              " [1] Standard Errors assume that the covariance matrix of the errors is correctly specified. \\newline\n",
              " [2] The condition number is large, 1.3e+04. This might indicate that there are \\newline\n",
              " strong multicollinearity or other numerical problems."
            ],
            "text/plain": [
              "<class 'statsmodels.iolib.summary.Summary'>\n",
              "\"\"\"\n",
              "                            OLS Regression Results                            \n",
              "==============================================================================\n",
              "Dep. Variable:                 온열환자비율   R-squared:                       0.339\n",
              "Model:                            OLS   Adj. R-squared:                  0.145\n",
              "Method:                 Least Squares   F-statistic:                     1.745\n",
              "Date:                Fri, 21 Jun 2024   Prob (F-statistic):              0.178\n",
              "Time:                        18:39:42   Log-Likelihood:                 164.29\n",
              "No. Observations:                  23   AIC:                            -316.6\n",
              "Df Residuals:                      17   BIC:                            -309.8\n",
              "Df Model:                           5                                         \n",
              "Covariance Type:            nonrobust                                         \n",
              "==============================================================================\n",
              "                 coef    std err          t      P>|t|      [0.025      0.975]\n",
              "------------------------------------------------------------------------------\n",
              "Intercept     -0.0003      0.002     -0.111      0.913      -0.005       0.005\n",
              "고령자비율          0.0023      0.004      0.580      0.569      -0.006       0.011\n",
              "수급자비율         -0.0240      0.016     -1.462      0.162      -0.059       0.011\n",
              "수용률           -0.0123      0.008     -1.506      0.150      -0.029       0.005\n",
              "평균기온       -6.491e-05   8.39e-05     -0.773      0.450      -0.000       0.000\n",
              "최고온도        4.392e-05   8.87e-05      0.495      0.627      -0.000       0.000\n",
              "==============================================================================\n",
              "Omnibus:                       14.485   Durbin-Watson:                   1.480\n",
              "Prob(Omnibus):                  0.001   Jarque-Bera (JB):               14.769\n",
              "Skew:                           1.404   Prob(JB):                     0.000621\n",
              "Kurtosis:                       5.744   Cond. No.                     1.30e+04\n",
              "==============================================================================\n",
              "\n",
              "Notes:\n",
              "[1] Standard Errors assume that the covariance matrix of the errors is correctly specified.\n",
              "[2] The condition number is large, 1.3e+04. This might indicate that there are\n",
              "strong multicollinearity or other numerical problems.\n",
              "\"\"\""
            ]
          },
          "execution_count": 68,
          "metadata": {},
          "output_type": "execute_result"
        }
      ],
      "source": [
        "import statsmodels.api as sm\n",
        "from statsmodels.formula.api import ols\n",
        "\n",
        "result = ols('온열환자비율 ~ 고령자비율 + 수급자비율 + 수용률 + 평균기온 + 최고온도', data = df).fit()\n",
        "result.summary()\n"
      ]
    },
    {
      "cell_type": "code",
      "execution_count": null,
      "id": "3389084a-c859-489b-a4cd-ceae79109f42",
      "metadata": {
        "scrolled": true,
        "id": "3389084a-c859-489b-a4cd-ceae79109f42",
        "outputId": "782101ca-6eab-423f-897b-7b3d9aeb80dc"
      },
      "outputs": [
        {
          "name": "stderr",
          "output_type": "stream",
          "text": [
            "C:\\anaconda3\\Lib\\site-packages\\seaborn\\_oldcore.py:1119: FutureWarning: use_inf_as_na option is deprecated and will be removed in a future version. Convert inf values to NaN before operating instead.\n",
            "  with pd.option_context('mode.use_inf_as_na', True):\n",
            "C:\\anaconda3\\Lib\\site-packages\\seaborn\\_oldcore.py:1119: FutureWarning: use_inf_as_na option is deprecated and will be removed in a future version. Convert inf values to NaN before operating instead.\n",
            "  with pd.option_context('mode.use_inf_as_na', True):\n",
            "C:\\anaconda3\\Lib\\site-packages\\seaborn\\_oldcore.py:1119: FutureWarning: use_inf_as_na option is deprecated and will be removed in a future version. Convert inf values to NaN before operating instead.\n",
            "  with pd.option_context('mode.use_inf_as_na', True):\n",
            "C:\\anaconda3\\Lib\\site-packages\\seaborn\\_oldcore.py:1119: FutureWarning: use_inf_as_na option is deprecated and will be removed in a future version. Convert inf values to NaN before operating instead.\n",
            "  with pd.option_context('mode.use_inf_as_na', True):\n",
            "C:\\anaconda3\\Lib\\site-packages\\seaborn\\_oldcore.py:1119: FutureWarning: use_inf_as_na option is deprecated and will be removed in a future version. Convert inf values to NaN before operating instead.\n",
            "  with pd.option_context('mode.use_inf_as_na', True):\n"
          ]
        },
        {
          "data": {
            "text/plain": [
              "<seaborn.axisgrid.PairGrid at 0x23589f5ba90>"
            ]
          },
          "execution_count": 33,
          "metadata": {},
          "output_type": "execute_result"
        },
        {
          "data": {
            "image/png": "[encoded data removed]",
            "text/plain": [
              "<Figure size 1250x1250 with 30 Axes>"
            ]
          },
          "metadata": {},
          "output_type": "display_data"
        }
      ],
      "source": [
        "sns.pairplot(df.iloc[:, 6:])"
      ]
    },
    {
      "cell_type": "code",
      "execution_count": null,
      "id": "ba7e8b38-6d2d-4fbb-913c-9673739cc87d",
      "metadata": {
        "id": "ba7e8b38-6d2d-4fbb-913c-9673739cc87d"
      },
      "outputs": [],
      "source": []
    },
    {
      "cell_type": "code",
      "execution_count": null,
      "id": "6d636201-aaf8-44ee-9d14-7b968e8dd32d",
      "metadata": {
        "id": "6d636201-aaf8-44ee-9d14-7b968e8dd32d"
      },
      "outputs": [],
      "source": []
    }
  ],
  "metadata": {
    "kernelspec": {
      "display_name": "Python 3 (ipykernel)",
      "language": "python",
      "name": "python3"
    },
    "language_info": {
      "codemirror_mode": {
        "name": "ipython",
        "version": 3
      },
      "file_extension": ".py",
      "mimetype": "text/x-python",
      "name": "python",
      "nbconvert_exporter": "python",
      "pygments_lexer": "ipython3",
      "version": "3.11.7"
    },
    "colab": {
      "provenance": []
    }
  },
  "nbformat": 4,
  "nbformat_minor": 5
}