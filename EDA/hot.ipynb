{
  "cells": [
    {
      "cell_type": "code",
      "execution_count": null,
      "metadata": {
        "id": "u0sSr6hNR_6h"
      },
      "outputs": [],
      "source": [
        "import pandas as pd\n",
        "import numpy as np\n",
        "import matplotlib.pyplot as plt\n",
        "import matplotlib as mpl\n",
        "import matplotlib.font_manager as fm\n",
        "mpl.rcParams['axes.unicode_minus']= False\n",
        "\n",
        "path = 'C:/Windows/Fonts/malgun.ttf'\n",
        "font_name = fm.FontProperties(fname = path, size = 50).get_name()\n",
        "plt.rc('font', family=font_name)\n"
      ]
    },
    {
      "cell_type": "code",
      "execution_count": null,
      "metadata": {
        "id": "yiMXhUIIR_6i"
      },
      "outputs": [],
      "source": [
        "hot_df=pd.read_csv('./data/온열환자수.csv',encoding='cp949')"
      ]
    },
    {
      "cell_type": "code",
      "execution_count": null,
      "metadata": {
        "id": "7iilMhpvR_6i",
        "outputId": "74f2853c-67ef-47b4-8f79-3152b8e5b88c"
      },
      "outputs": [
        {
          "data": {
            "text/html": [
              "<div>\n",
              "<style scoped>\n",
              "    .dataframe tbody tr th:only-of-type {\n",
              "        vertical-align: middle;\n",
              "    }\n",
              "\n",
              "    .dataframe tbody tr th {\n",
              "        vertical-align: top;\n",
              "    }\n",
              "\n",
              "    .dataframe thead th {\n",
              "        text-align: right;\n",
              "    }\n",
              "</style>\n",
              "<table border=\"1\" class=\"dataframe\">\n",
              "  <thead>\n",
              "    <tr style=\"text-align: right;\">\n",
              "      <th></th>\n",
              "      <th>연도</th>\n",
              "      <th>성별</th>\n",
              "      <th>전체</th>\n",
              "      <th>0-9</th>\n",
              "      <th>10-19</th>\n",
              "      <th>20-29</th>\n",
              "      <th>30-39</th>\n",
              "      <th>40-49</th>\n",
              "      <th>50-59</th>\n",
              "      <th>60-69</th>\n",
              "      <th>70-79</th>\n",
              "      <th>80+</th>\n",
              "      <th>65+</th>\n",
              "    </tr>\n",
              "  </thead>\n",
              "  <tbody>\n",
              "    <tr>\n",
              "      <th>0</th>\n",
              "      <td>총계</td>\n",
              "      <td>계</td>\n",
              "      <td>21,130</td>\n",
              "      <td>96</td>\n",
              "      <td>898</td>\n",
              "      <td>2,035</td>\n",
              "      <td>2,311</td>\n",
              "      <td>3,352</td>\n",
              "      <td>4,596</td>\n",
              "      <td>3,397</td>\n",
              "      <td>2,448</td>\n",
              "      <td>1,997</td>\n",
              "      <td>5,882</td>\n",
              "    </tr>\n",
              "    <tr>\n",
              "      <th>1</th>\n",
              "      <td>2011년</td>\n",
              "      <td>계</td>\n",
              "      <td>443</td>\n",
              "      <td>1</td>\n",
              "      <td>40</td>\n",
              "      <td>61</td>\n",
              "      <td>44</td>\n",
              "      <td>86</td>\n",
              "      <td>76</td>\n",
              "      <td>64</td>\n",
              "      <td>45</td>\n",
              "      <td>26</td>\n",
              "      <td>101</td>\n",
              "    </tr>\n",
              "    <tr>\n",
              "      <th>2</th>\n",
              "      <td>2011년</td>\n",
              "      <td>남</td>\n",
              "      <td>325</td>\n",
              "      <td>-</td>\n",
              "      <td>22</td>\n",
              "      <td>48</td>\n",
              "      <td>39</td>\n",
              "      <td>77</td>\n",
              "      <td>60</td>\n",
              "      <td>46</td>\n",
              "      <td>19</td>\n",
              "      <td>14</td>\n",
              "      <td>50</td>\n",
              "    </tr>\n",
              "    <tr>\n",
              "      <th>3</th>\n",
              "      <td>2011년</td>\n",
              "      <td>여</td>\n",
              "      <td>118</td>\n",
              "      <td>1</td>\n",
              "      <td>18</td>\n",
              "      <td>13</td>\n",
              "      <td>5</td>\n",
              "      <td>9</td>\n",
              "      <td>16</td>\n",
              "      <td>18</td>\n",
              "      <td>26</td>\n",
              "      <td>12</td>\n",
              "      <td>51</td>\n",
              "    </tr>\n",
              "    <tr>\n",
              "      <th>4</th>\n",
              "      <td>2012년</td>\n",
              "      <td>계</td>\n",
              "      <td>984</td>\n",
              "      <td>8</td>\n",
              "      <td>73</td>\n",
              "      <td>82</td>\n",
              "      <td>108</td>\n",
              "      <td>167</td>\n",
              "      <td>166</td>\n",
              "      <td>128</td>\n",
              "      <td>151</td>\n",
              "      <td>101</td>\n",
              "      <td>318</td>\n",
              "    </tr>\n",
              "  </tbody>\n",
              "</table>\n",
              "</div>"
            ],
            "text/plain": [
              "      연도 성별      전체 0-9  10-19  20-29  30-39  40-49  50-59  60-69  70-79  \\\n",
              "0     총계  계  21,130  96    898  2,035  2,311  3,352  4,596  3,397  2,448   \n",
              "1  2011년  계     443   1     40     61     44     86     76     64     45   \n",
              "2  2011년  남     325   -     22     48     39     77     60     46     19   \n",
              "3  2011년  여     118   1     18     13      5      9     16     18     26   \n",
              "4  2012년  계     984   8     73     82    108    167    166    128    151   \n",
              "\n",
              "     80+    65+  \n",
              "0  1,997  5,882  \n",
              "1     26    101  \n",
              "2     14     50  \n",
              "3     12     51  \n",
              "4    101    318  "
            ]
          },
          "execution_count": 184,
          "metadata": {},
          "output_type": "execute_result"
        }
      ],
      "source": [
        "hot_df.head()"
      ]
    },
    {
      "cell_type": "code",
      "execution_count": null,
      "metadata": {
        "id": "RmbIV12ZR_6j"
      },
      "outputs": [],
      "source": [
        "hot_df=hot_df[hot_df['성별']=='계']\n",
        "hot_df.drop(['연도','성별'],axis=1,inplace=True)"
      ]
    },
    {
      "cell_type": "code",
      "execution_count": null,
      "metadata": {
        "id": "uIf__CCVR_6j",
        "outputId": "b081e0c2-7972-4f19-ce2e-c382e5e432f0"
      },
      "outputs": [
        {
          "data": {
            "text/html": [
              "<div>\n",
              "<style scoped>\n",
              "    .dataframe tbody tr th:only-of-type {\n",
              "        vertical-align: middle;\n",
              "    }\n",
              "\n",
              "    .dataframe tbody tr th {\n",
              "        vertical-align: top;\n",
              "    }\n",
              "\n",
              "    .dataframe thead th {\n",
              "        text-align: right;\n",
              "    }\n",
              "</style>\n",
              "<table border=\"1\" class=\"dataframe\">\n",
              "  <thead>\n",
              "    <tr style=\"text-align: right;\">\n",
              "      <th></th>\n",
              "      <th>전체</th>\n",
              "      <th>0-9</th>\n",
              "      <th>10-19</th>\n",
              "      <th>20-29</th>\n",
              "      <th>30-39</th>\n",
              "      <th>40-49</th>\n",
              "      <th>50-59</th>\n",
              "      <th>60-69</th>\n",
              "      <th>70-79</th>\n",
              "      <th>80+</th>\n",
              "      <th>65+</th>\n",
              "    </tr>\n",
              "  </thead>\n",
              "  <tbody>\n",
              "    <tr>\n",
              "      <th>0</th>\n",
              "      <td>21,130</td>\n",
              "      <td>96</td>\n",
              "      <td>898</td>\n",
              "      <td>2,035</td>\n",
              "      <td>2,311</td>\n",
              "      <td>3,352</td>\n",
              "      <td>4,596</td>\n",
              "      <td>3,397</td>\n",
              "      <td>2,448</td>\n",
              "      <td>1,997</td>\n",
              "      <td>5,882</td>\n",
              "    </tr>\n",
              "    <tr>\n",
              "      <th>1</th>\n",
              "      <td>443</td>\n",
              "      <td>1</td>\n",
              "      <td>40</td>\n",
              "      <td>61</td>\n",
              "      <td>44</td>\n",
              "      <td>86</td>\n",
              "      <td>76</td>\n",
              "      <td>64</td>\n",
              "      <td>45</td>\n",
              "      <td>26</td>\n",
              "      <td>101</td>\n",
              "    </tr>\n",
              "    <tr>\n",
              "      <th>4</th>\n",
              "      <td>984</td>\n",
              "      <td>8</td>\n",
              "      <td>73</td>\n",
              "      <td>82</td>\n",
              "      <td>108</td>\n",
              "      <td>167</td>\n",
              "      <td>166</td>\n",
              "      <td>128</td>\n",
              "      <td>151</td>\n",
              "      <td>101</td>\n",
              "      <td>318</td>\n",
              "    </tr>\n",
              "    <tr>\n",
              "      <th>7</th>\n",
              "      <td>1,189</td>\n",
              "      <td>5</td>\n",
              "      <td>89</td>\n",
              "      <td>106</td>\n",
              "      <td>137</td>\n",
              "      <td>218</td>\n",
              "      <td>254</td>\n",
              "      <td>146</td>\n",
              "      <td>139</td>\n",
              "      <td>95</td>\n",
              "      <td>295</td>\n",
              "    </tr>\n",
              "    <tr>\n",
              "      <th>10</th>\n",
              "      <td>556</td>\n",
              "      <td>3</td>\n",
              "      <td>31</td>\n",
              "      <td>62</td>\n",
              "      <td>68</td>\n",
              "      <td>107</td>\n",
              "      <td>132</td>\n",
              "      <td>71</td>\n",
              "      <td>57</td>\n",
              "      <td>25</td>\n",
              "      <td>114</td>\n",
              "    </tr>\n",
              "  </tbody>\n",
              "</table>\n",
              "</div>"
            ],
            "text/plain": [
              "        전체 0-9  10-19  20-29  30-39  40-49  50-59  60-69  70-79    80+    65+\n",
              "0   21,130  96    898  2,035  2,311  3,352  4,596  3,397  2,448  1,997  5,882\n",
              "1      443   1     40     61     44     86     76     64     45     26    101\n",
              "4      984   8     73     82    108    167    166    128    151    101    318\n",
              "7    1,189   5     89    106    137    218    254    146    139     95    295\n",
              "10     556   3     31     62     68    107    132     71     57     25    114"
            ]
          },
          "execution_count": 186,
          "metadata": {},
          "output_type": "execute_result"
        }
      ],
      "source": [
        "hot_df.head()"
      ]
    },
    {
      "cell_type": "code",
      "execution_count": null,
      "metadata": {
        "id": "cU3UwnQvR_6j"
      },
      "outputs": [],
      "source": [
        "hot_df1=hot_df.iloc[0].to_frame().reset_index()\n",
        "hot_df1.columns=['연령별','온열환자 수']\n",
        "hot_df1['온열환자 수']=hot_df1['온열환자 수'].apply(lambda x : x.replace(',', '') if isinstance(x, str) else x)\n",
        "hot_df1['온열환자 수']=hot_df1['온열환자 수'].astype('int')\n",
        "hot_df1.loc[11]=['65세 이상',hot_df1['온열환자 수'][7:10].sum()]\n",
        "hot_df1.drop([0,7,8,9,10],inplace=True)"
      ]
    },
    {
      "cell_type": "code",
      "execution_count": null,
      "metadata": {
        "id": "-0aVDsU7R_6j",
        "outputId": "a3dba8e6-518d-4f12-d357-26bc20bbcc23"
      },
      "outputs": [
        {
          "data": {
            "text/plain": [
              "Text(0.5, 1.0, '2011~2023년까지의 연령별 온열환자 수 평균')"
            ]
          },
          "execution_count": 188,
          "metadata": {},
          "output_type": "execute_result"
        },
        {
          "data": {
            "image/png": "[encoded data removed]",
            "text/plain": [
              "<Figure size 640x480 with 1 Axes>"
            ]
          },
          "metadata": {},
          "output_type": "display_data"
        }
      ],
      "source": [
        "plt.bar(hot_df1['연령별'],hot_df1['온열환자 수'])\n",
        "plt.xlabel('연령별')\n",
        "plt.ylabel('온열환자 수')\n",
        "plt.title('2011~2023년까지의 연령별 온열환자 수 평균')\n"
      ]
    },
    {
      "cell_type": "code",
      "execution_count": null,
      "metadata": {
        "id": "z6-LJfI9R_6j"
      },
      "outputs": [],
      "source": [
        "aging=pd.read_csv('./data/주요 인구 지표.csv',encoding='cp949')"
      ]
    },
    {
      "cell_type": "code",
      "execution_count": null,
      "metadata": {
        "id": "zXQ9v4PpR_6k",
        "outputId": "189e3710-6a4f-46ec-a4b8-81a6e1c80768"
      },
      "outputs": [
        {
          "name": "stderr",
          "output_type": "stream",
          "text": [
            "C:\\Users\\User\\AppData\\Local\\Temp\\ipykernel_17328\\1691083667.py:34: FutureWarning: Series.__getitem__ treating keys as positions is deprecated. In a future version, integer keys will always be treated as labels (consistent with DataFrame behavior). To access a value by position, use `ser.iloc[pos]`\n",
            "  plt.text(df['Year'][i], df['Senior Percentage'][i] + 0.5, f'{df[\"Senior Percentage\"][i]:.2f}%', ha='center')\n"
          ]
        },
        {
          "data": {
            "image/png": "[encoded data removed]",
            "text/plain": [
              "<Figure size 1000x600 with 1 Axes>"
            ]
          },
          "metadata": {},
          "output_type": "display_data"
        }
      ],
      "source": [
        "import pandas as pd\n",
        "import matplotlib.pyplot as plt\n",
        "\n",
        "file_path = './data/주요 인구 지표.csv'\n",
        "data = pd.read_csv(file_path, encoding='cp949')\n",
        "\n",
        "total_population = data[data['인구구조,부양비별'].str.contains('총인구')].reset_index(drop=True)\n",
        "senior_population = data[data['인구구조,부양비별'].str.contains('65세 이상')].reset_index(drop=True)\n",
        "\n",
        "years = ['2010', '2020', '2030', '2040', '2050', '2060', '2070']\n",
        "\n",
        "total_population_values = total_population.iloc[0][years].astype(int)\n",
        "senior_population_values = senior_population[senior_population['인구구조,부양비별'].str.contains('65세 이상')].iloc[0][years].astype(int)\n",
        "\n",
        "senior_percentage = (senior_population_values / total_population_values) * 100\n",
        "\n",
        "df = pd.DataFrame({\n",
        "    'Year': years,\n",
        "    'Senior Percentage': senior_percentage\n",
        "})\n",
        "\n",
        "plt.figure(figsize=(10, 6))\n",
        "plt.bar(df['Year'], df['Senior Percentage'], color='skyblue', label='고령 인구 비율 (%)')\n",
        "plt.plot(df['Year'], df['Senior Percentage'], color='red', marker='o', label='비율 (%)')\n",
        "\n",
        "for i in range(len(df)):\n",
        "    plt.text(df['Year'][i], df['Senior Percentage'][i] + 0.5, f'{df[\"Senior Percentage\"][i]:.2f}%', ha='center')\n",
        "\n",
        "plt.xlabel('년도')\n",
        "plt.ylabel('고령 인구 비율 (%)')\n",
        "plt.title('년도별 총인구 대비 65세 이상 고령 인구 비율')\n",
        "plt.ylim(0, max(senior_percentage) + 5)\n",
        "plt.legend()\n",
        "plt.show()"
      ]
    }
  ],
  "metadata": {
    "kernelspec": {
      "display_name": "Python 3",
      "language": "python",
      "name": "python3"
    },
    "language_info": {
      "codemirror_mode": {
        "name": "ipython",
        "version": 3
      },
      "file_extension": ".py",
      "mimetype": "text/x-python",
      "name": "python",
      "nbconvert_exporter": "python",
      "pygments_lexer": "ipython3",
      "version": "3.12.1"
    },
    "colab": {
      "provenance": []
    }
  },
  "nbformat": 4,
  "nbformat_minor": 0
}